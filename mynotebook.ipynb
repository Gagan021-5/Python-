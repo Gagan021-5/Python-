{
 "cells": [
  {
   "cell_type": "code",
   "execution_count": null,
   "id": "d21b34e2",
   "metadata": {
    "vscode": {
     "languageId": "plaintext"
    }
   },
   "outputs": [],
   "source": [
    "from helper_function import print_llm_response"
   ]
  },
  {
   "cell_type": "code",
   "execution_count": null,
   "id": "205a750a",
   "metadata": {
    "vscode": {
     "languageId": "plaintext"
    }
   },
   "outputs": [],
   "source": []
  }
 ],
 "metadata": {
  "language_info": {
   "name": "python"
  }
 },
 "nbformat": 4,
 "nbformat_minor": 5
}
